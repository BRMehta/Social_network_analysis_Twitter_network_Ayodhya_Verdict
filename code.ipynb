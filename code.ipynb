{
 "cells": [
  {
   "cell_type": "markdown",
   "metadata": {
    "id": "LRLRxtPruPaF"
   },
   "source": [
    "# **Social Network Analysis (SNA) of Ayodhya Verdict Twitter Network**\n",
    "\n",
    "### Bhargav Mehta - MT2021029\n",
    "\n",
    "### bhargav.mehta@iiitb.ac.in"
   ]
  },
  {
   "cell_type": "markdown",
   "metadata": {
    "id": "p7CWURjN1W2K"
   },
   "source": [
    "Social network analysis (SNA) is the process of investigating social structures through the use of networks and graph theory. It characterizes networked structures in terms of nodes and links (relationships or interactions) that connect them.\n",
    "\n",
    "We'll be using NetworkX, a Python package for creating, manipulating, and studying the structure of complex networks.\n",
    "\n",
    "**Objectives**:\n",
    "1. Find graph derivative value and analyze it\n",
    "2. Find the most influential Twitter account.\n"
   ]
  },
  {
   "cell_type": "code",
   "execution_count": 1,
   "metadata": {
    "colab": {
     "base_uri": "https://localhost:8080/",
     "height": 0
    },
    "id": "IHfsj563F6l5",
    "outputId": "fd18346c-b7e5-46e7-ed35-7299ca2f994d"
   },
   "outputs": [
    {
     "name": "stdout",
     "output_type": "stream",
     "text": [
      "Drive already mounted at /content/gdrive; to attempt to forcibly remount, call drive.mount(\"/content/gdrive\", force_remount=True).\n"
     ]
    }
   ],
   "source": [
    "from google.colab import drive\n",
    "drive.mount(\"/content/gdrive\")"
   ]
  },
  {
   "cell_type": "code",
   "execution_count": 2,
   "metadata": {
    "colab": {
     "base_uri": "https://localhost:8080/",
     "height": 0
    },
    "id": "6SNE51wrXi6K",
    "outputId": "09ce5598-ac9e-431e-dcd8-4622059b38cd"
   },
   "outputs": [
    {
     "name": "stdout",
     "output_type": "stream",
     "text": [
      "Looking in indexes: https://pypi.org/simple, https://us-python.pkg.dev/colab-wheels/public/simple/\n",
      "Requirement already satisfied: networkx in /usr/local/lib/python3.7/dist-packages (2.6.3)\n"
     ]
    }
   ],
   "source": [
    "pip install networkx"
   ]
  },
  {
   "cell_type": "code",
   "execution_count": 3,
   "metadata": {
    "id": "G0BLY-8pR64-"
   },
   "outputs": [],
   "source": [
    "import numpy as np\n",
    "import networkx as nx\n",
    "import pandas as pd\n",
    "import matplotlib.pyplot as plt"
   ]
  },
  {
   "cell_type": "code",
   "execution_count": null,
   "metadata": {},
   "outputs": [],
   "source": []
  },
  {
   "cell_type": "markdown",
   "metadata": {
    "id": "iPVWYXIuW9Mz"
   },
   "source": [
    "\n",
    "## dataset information\n",
    "\n",
    "AYODHYAVERDICT_tweets.csv contains the mapping of 'user id' and Twitter 'account name'\n",
    "\n",
    "AYODHYAVERDICT_follower_followee_network.csv contains the mapping of Twitter 'account name' and 'list of follower ids'.\n",
    "\n",
    "pre-processing: Unwanted columns are removed from both the CSV files"
   ]
  },
  {
   "cell_type": "code",
   "execution_count": 4,
   "metadata": {
    "colab": {
     "base_uri": "https://localhost:8080/",
     "height": 423
    },
    "id": "A57am55HXOZR",
    "outputId": "e25c2fad-a455-4320-a58e-5d78c1ada114"
   },
   "outputs": [
    {
     "data": {
      "text/html": [
       "\n",
       "  <div id=\"df-8c95a568-1666-4821-ab5a-e3b6628e3927\">\n",
       "    <div class=\"colab-df-container\">\n",
       "      <div>\n",
       "<style scoped>\n",
       "    .dataframe tbody tr th:only-of-type {\n",
       "        vertical-align: middle;\n",
       "    }\n",
       "\n",
       "    .dataframe tbody tr th {\n",
       "        vertical-align: top;\n",
       "    }\n",
       "\n",
       "    .dataframe thead th {\n",
       "        text-align: right;\n",
       "    }\n",
       "</style>\n",
       "<table border=\"1\" class=\"dataframe\">\n",
       "  <thead>\n",
       "    <tr style=\"text-align: right;\">\n",
       "      <th></th>\n",
       "      <th>user_id</th>\n",
       "      <th>screen_name</th>\n",
       "    </tr>\n",
       "  </thead>\n",
       "  <tbody>\n",
       "    <tr>\n",
       "      <th>0</th>\n",
       "      <td>1179280919263186944</td>\n",
       "      <td>Prakash72091622</td>\n",
       "    </tr>\n",
       "    <tr>\n",
       "      <th>1</th>\n",
       "      <td>1179280919263186944</td>\n",
       "      <td>Prakash72091622</td>\n",
       "    </tr>\n",
       "    <tr>\n",
       "      <th>2</th>\n",
       "      <td>1113627067</td>\n",
       "      <td>warewolf999</td>\n",
       "    </tr>\n",
       "    <tr>\n",
       "      <th>3</th>\n",
       "      <td>1027888044307701761</td>\n",
       "      <td>Aayush74670776</td>\n",
       "    </tr>\n",
       "    <tr>\n",
       "      <th>4</th>\n",
       "      <td>762122872173191168</td>\n",
       "      <td>akmohanty07</td>\n",
       "    </tr>\n",
       "    <tr>\n",
       "      <th>...</th>\n",
       "      <td>...</td>\n",
       "      <td>...</td>\n",
       "    </tr>\n",
       "    <tr>\n",
       "      <th>195</th>\n",
       "      <td>179003453</td>\n",
       "      <td>chennak418</td>\n",
       "    </tr>\n",
       "    <tr>\n",
       "      <th>196</th>\n",
       "      <td>1095730132898246661</td>\n",
       "      <td>anu04706249</td>\n",
       "    </tr>\n",
       "    <tr>\n",
       "      <th>197</th>\n",
       "      <td>21191906</td>\n",
       "      <td>UnityInDiverse</td>\n",
       "    </tr>\n",
       "    <tr>\n",
       "      <th>198</th>\n",
       "      <td>719049254774247424</td>\n",
       "      <td>MALLERSOWMYA</td>\n",
       "    </tr>\n",
       "    <tr>\n",
       "      <th>199</th>\n",
       "      <td>868341595917168640</td>\n",
       "      <td>luvmeimfaiz</td>\n",
       "    </tr>\n",
       "  </tbody>\n",
       "</table>\n",
       "<p>200 rows × 2 columns</p>\n",
       "</div>\n",
       "      <button class=\"colab-df-convert\" onclick=\"convertToInteractive('df-8c95a568-1666-4821-ab5a-e3b6628e3927')\"\n",
       "              title=\"Convert this dataframe to an interactive table.\"\n",
       "              style=\"display:none;\">\n",
       "        \n",
       "  <svg xmlns=\"http://www.w3.org/2000/svg\" height=\"24px\"viewBox=\"0 0 24 24\"\n",
       "       width=\"24px\">\n",
       "    <path d=\"M0 0h24v24H0V0z\" fill=\"none\"/>\n",
       "    <path d=\"M18.56 5.44l.94 2.06.94-2.06 2.06-.94-2.06-.94-.94-2.06-.94 2.06-2.06.94zm-11 1L8.5 8.5l.94-2.06 2.06-.94-2.06-.94L8.5 2.5l-.94 2.06-2.06.94zm10 10l.94 2.06.94-2.06 2.06-.94-2.06-.94-.94-2.06-.94 2.06-2.06.94z\"/><path d=\"M17.41 7.96l-1.37-1.37c-.4-.4-.92-.59-1.43-.59-.52 0-1.04.2-1.43.59L10.3 9.45l-7.72 7.72c-.78.78-.78 2.05 0 2.83L4 21.41c.39.39.9.59 1.41.59.51 0 1.02-.2 1.41-.59l7.78-7.78 2.81-2.81c.8-.78.8-2.07 0-2.86zM5.41 20L4 18.59l7.72-7.72 1.47 1.35L5.41 20z\"/>\n",
       "  </svg>\n",
       "      </button>\n",
       "      \n",
       "  <style>\n",
       "    .colab-df-container {\n",
       "      display:flex;\n",
       "      flex-wrap:wrap;\n",
       "      gap: 12px;\n",
       "    }\n",
       "\n",
       "    .colab-df-convert {\n",
       "      background-color: #E8F0FE;\n",
       "      border: none;\n",
       "      border-radius: 50%;\n",
       "      cursor: pointer;\n",
       "      display: none;\n",
       "      fill: #1967D2;\n",
       "      height: 32px;\n",
       "      padding: 0 0 0 0;\n",
       "      width: 32px;\n",
       "    }\n",
       "\n",
       "    .colab-df-convert:hover {\n",
       "      background-color: #E2EBFA;\n",
       "      box-shadow: 0px 1px 2px rgba(60, 64, 67, 0.3), 0px 1px 3px 1px rgba(60, 64, 67, 0.15);\n",
       "      fill: #174EA6;\n",
       "    }\n",
       "\n",
       "    [theme=dark] .colab-df-convert {\n",
       "      background-color: #3B4455;\n",
       "      fill: #D2E3FC;\n",
       "    }\n",
       "\n",
       "    [theme=dark] .colab-df-convert:hover {\n",
       "      background-color: #434B5C;\n",
       "      box-shadow: 0px 1px 3px 1px rgba(0, 0, 0, 0.15);\n",
       "      filter: drop-shadow(0px 1px 2px rgba(0, 0, 0, 0.3));\n",
       "      fill: #FFFFFF;\n",
       "    }\n",
       "  </style>\n",
       "\n",
       "      <script>\n",
       "        const buttonEl =\n",
       "          document.querySelector('#df-8c95a568-1666-4821-ab5a-e3b6628e3927 button.colab-df-convert');\n",
       "        buttonEl.style.display =\n",
       "          google.colab.kernel.accessAllowed ? 'block' : 'none';\n",
       "\n",
       "        async function convertToInteractive(key) {\n",
       "          const element = document.querySelector('#df-8c95a568-1666-4821-ab5a-e3b6628e3927');\n",
       "          const dataTable =\n",
       "            await google.colab.kernel.invokeFunction('convertToInteractive',\n",
       "                                                     [key], {});\n",
       "          if (!dataTable) return;\n",
       "\n",
       "          const docLinkHtml = 'Like what you see? Visit the ' +\n",
       "            '<a target=\"_blank\" href=https://colab.research.google.com/notebooks/data_table.ipynb>data table notebook</a>'\n",
       "            + ' to learn more about interactive tables.';\n",
       "          element.innerHTML = '';\n",
       "          dataTable['output_type'] = 'display_data';\n",
       "          await google.colab.output.renderOutput(dataTable, element);\n",
       "          const docLink = document.createElement('div');\n",
       "          docLink.innerHTML = docLinkHtml;\n",
       "          element.appendChild(docLink);\n",
       "        }\n",
       "      </script>\n",
       "    </div>\n",
       "  </div>\n",
       "  "
      ],
      "text/plain": [
       "                 user_id      screen_name\n",
       "0    1179280919263186944  Prakash72091622\n",
       "1    1179280919263186944  Prakash72091622\n",
       "2             1113627067      warewolf999\n",
       "3    1027888044307701761   Aayush74670776\n",
       "4     762122872173191168      akmohanty07\n",
       "..                   ...              ...\n",
       "195            179003453       chennak418\n",
       "196  1095730132898246661      anu04706249\n",
       "197             21191906   UnityInDiverse\n",
       "198   719049254774247424     MALLERSOWMYA\n",
       "199   868341595917168640      luvmeimfaiz\n",
       "\n",
       "[200 rows x 2 columns]"
      ]
     },
     "execution_count": 4,
     "metadata": {},
     "output_type": "execute_result"
    }
   ],
   "source": [
    "df = pd.read_csv('/content/gdrive/MyDrive/#AYODHYAVERDICT_tweets.csv')\n",
    "df"
   ]
  },
  {
   "cell_type": "code",
   "execution_count": 5,
   "metadata": {
    "colab": {
     "base_uri": "https://localhost:8080/",
     "height": 423
    },
    "id": "4OzebgmdXY8C",
    "outputId": "b8a9c371-a358-49f3-891e-2025cd78331d"
   },
   "outputs": [
    {
     "data": {
      "text/html": [
       "\n",
       "  <div id=\"df-04a65aa0-6bc0-4fad-a57d-0c67a202a9e7\">\n",
       "    <div class=\"colab-df-container\">\n",
       "      <div>\n",
       "<style scoped>\n",
       "    .dataframe tbody tr th:only-of-type {\n",
       "        vertical-align: middle;\n",
       "    }\n",
       "\n",
       "    .dataframe tbody tr th {\n",
       "        vertical-align: top;\n",
       "    }\n",
       "\n",
       "    .dataframe thead th {\n",
       "        text-align: right;\n",
       "    }\n",
       "</style>\n",
       "<table border=\"1\" class=\"dataframe\">\n",
       "  <thead>\n",
       "    <tr style=\"text-align: right;\">\n",
       "      <th></th>\n",
       "      <th>screen_name</th>\n",
       "      <th>followerIDs</th>\n",
       "    </tr>\n",
       "  </thead>\n",
       "  <tbody>\n",
       "    <tr>\n",
       "      <th>0</th>\n",
       "      <td>Prakash72091622</td>\n",
       "      <td>880332042726256640, 948498152105000961, 753116...</td>\n",
       "    </tr>\n",
       "    <tr>\n",
       "      <th>1</th>\n",
       "      <td>warewolf999</td>\n",
       "      <td>1638548772, 1127891108607008769, 2853505194,40...</td>\n",
       "    </tr>\n",
       "    <tr>\n",
       "      <th>2</th>\n",
       "      <td>Aayush74670776</td>\n",
       "      <td>917939806881112066, 2572507050, 11108658429490...</td>\n",
       "    </tr>\n",
       "    <tr>\n",
       "      <th>3</th>\n",
       "      <td>akmohanty07</td>\n",
       "      <td>731050037577289728, 1118888434716880896, 46179...</td>\n",
       "    </tr>\n",
       "    <tr>\n",
       "      <th>4</th>\n",
       "      <td>PabanDa97908689</td>\n",
       "      <td>1002535232506081285, 1105492568047906816, 1101...</td>\n",
       "    </tr>\n",
       "    <tr>\n",
       "      <th>...</th>\n",
       "      <td>...</td>\n",
       "      <td>...</td>\n",
       "    </tr>\n",
       "    <tr>\n",
       "      <th>185</th>\n",
       "      <td>chennak418</td>\n",
       "      <td>NaN</td>\n",
       "    </tr>\n",
       "    <tr>\n",
       "      <th>186</th>\n",
       "      <td>anu04706249</td>\n",
       "      <td>NaN</td>\n",
       "    </tr>\n",
       "    <tr>\n",
       "      <th>187</th>\n",
       "      <td>UnityInDiverse</td>\n",
       "      <td>NaN</td>\n",
       "    </tr>\n",
       "    <tr>\n",
       "      <th>188</th>\n",
       "      <td>MALLERSOWMYA</td>\n",
       "      <td>NaN</td>\n",
       "    </tr>\n",
       "    <tr>\n",
       "      <th>189</th>\n",
       "      <td>luvmeimfaiz</td>\n",
       "      <td>NaN</td>\n",
       "    </tr>\n",
       "  </tbody>\n",
       "</table>\n",
       "<p>190 rows × 2 columns</p>\n",
       "</div>\n",
       "      <button class=\"colab-df-convert\" onclick=\"convertToInteractive('df-04a65aa0-6bc0-4fad-a57d-0c67a202a9e7')\"\n",
       "              title=\"Convert this dataframe to an interactive table.\"\n",
       "              style=\"display:none;\">\n",
       "        \n",
       "  <svg xmlns=\"http://www.w3.org/2000/svg\" height=\"24px\"viewBox=\"0 0 24 24\"\n",
       "       width=\"24px\">\n",
       "    <path d=\"M0 0h24v24H0V0z\" fill=\"none\"/>\n",
       "    <path d=\"M18.56 5.44l.94 2.06.94-2.06 2.06-.94-2.06-.94-.94-2.06-.94 2.06-2.06.94zm-11 1L8.5 8.5l.94-2.06 2.06-.94-2.06-.94L8.5 2.5l-.94 2.06-2.06.94zm10 10l.94 2.06.94-2.06 2.06-.94-2.06-.94-.94-2.06-.94 2.06-2.06.94z\"/><path d=\"M17.41 7.96l-1.37-1.37c-.4-.4-.92-.59-1.43-.59-.52 0-1.04.2-1.43.59L10.3 9.45l-7.72 7.72c-.78.78-.78 2.05 0 2.83L4 21.41c.39.39.9.59 1.41.59.51 0 1.02-.2 1.41-.59l7.78-7.78 2.81-2.81c.8-.78.8-2.07 0-2.86zM5.41 20L4 18.59l7.72-7.72 1.47 1.35L5.41 20z\"/>\n",
       "  </svg>\n",
       "      </button>\n",
       "      \n",
       "  <style>\n",
       "    .colab-df-container {\n",
       "      display:flex;\n",
       "      flex-wrap:wrap;\n",
       "      gap: 12px;\n",
       "    }\n",
       "\n",
       "    .colab-df-convert {\n",
       "      background-color: #E8F0FE;\n",
       "      border: none;\n",
       "      border-radius: 50%;\n",
       "      cursor: pointer;\n",
       "      display: none;\n",
       "      fill: #1967D2;\n",
       "      height: 32px;\n",
       "      padding: 0 0 0 0;\n",
       "      width: 32px;\n",
       "    }\n",
       "\n",
       "    .colab-df-convert:hover {\n",
       "      background-color: #E2EBFA;\n",
       "      box-shadow: 0px 1px 2px rgba(60, 64, 67, 0.3), 0px 1px 3px 1px rgba(60, 64, 67, 0.15);\n",
       "      fill: #174EA6;\n",
       "    }\n",
       "\n",
       "    [theme=dark] .colab-df-convert {\n",
       "      background-color: #3B4455;\n",
       "      fill: #D2E3FC;\n",
       "    }\n",
       "\n",
       "    [theme=dark] .colab-df-convert:hover {\n",
       "      background-color: #434B5C;\n",
       "      box-shadow: 0px 1px 3px 1px rgba(0, 0, 0, 0.15);\n",
       "      filter: drop-shadow(0px 1px 2px rgba(0, 0, 0, 0.3));\n",
       "      fill: #FFFFFF;\n",
       "    }\n",
       "  </style>\n",
       "\n",
       "      <script>\n",
       "        const buttonEl =\n",
       "          document.querySelector('#df-04a65aa0-6bc0-4fad-a57d-0c67a202a9e7 button.colab-df-convert');\n",
       "        buttonEl.style.display =\n",
       "          google.colab.kernel.accessAllowed ? 'block' : 'none';\n",
       "\n",
       "        async function convertToInteractive(key) {\n",
       "          const element = document.querySelector('#df-04a65aa0-6bc0-4fad-a57d-0c67a202a9e7');\n",
       "          const dataTable =\n",
       "            await google.colab.kernel.invokeFunction('convertToInteractive',\n",
       "                                                     [key], {});\n",
       "          if (!dataTable) return;\n",
       "\n",
       "          const docLinkHtml = 'Like what you see? Visit the ' +\n",
       "            '<a target=\"_blank\" href=https://colab.research.google.com/notebooks/data_table.ipynb>data table notebook</a>'\n",
       "            + ' to learn more about interactive tables.';\n",
       "          element.innerHTML = '';\n",
       "          dataTable['output_type'] = 'display_data';\n",
       "          await google.colab.output.renderOutput(dataTable, element);\n",
       "          const docLink = document.createElement('div');\n",
       "          docLink.innerHTML = docLinkHtml;\n",
       "          element.appendChild(docLink);\n",
       "        }\n",
       "      </script>\n",
       "    </div>\n",
       "  </div>\n",
       "  "
      ],
      "text/plain": [
       "         screen_name                                        followerIDs\n",
       "0    Prakash72091622  880332042726256640, 948498152105000961, 753116...\n",
       "1        warewolf999  1638548772, 1127891108607008769, 2853505194,40...\n",
       "2     Aayush74670776  917939806881112066, 2572507050, 11108658429490...\n",
       "3        akmohanty07  731050037577289728, 1118888434716880896, 46179...\n",
       "4    PabanDa97908689  1002535232506081285, 1105492568047906816, 1101...\n",
       "..               ...                                                ...\n",
       "185       chennak418                                                NaN\n",
       "186      anu04706249                                                NaN\n",
       "187   UnityInDiverse                                                NaN\n",
       "188     MALLERSOWMYA                                                NaN\n",
       "189      luvmeimfaiz                                                NaN\n",
       "\n",
       "[190 rows x 2 columns]"
      ]
     },
     "execution_count": 5,
     "metadata": {},
     "output_type": "execute_result"
    }
   ],
   "source": [
    "df = pd.read_csv('/content/gdrive/MyDrive/#AYODHYAVERDICT_follower_followee_network.csv')\n",
    "df[['screen_name','followerIDs']]"
   ]
  },
  {
   "cell_type": "markdown",
   "metadata": {
    "id": "ZjZ50JOXawaC"
   },
   "source": [
    "## Importing dataset and network creation"
   ]
  },
  {
   "cell_type": "code",
   "execution_count": 6,
   "metadata": {
    "id": "cONhOMeVXoCC"
   },
   "outputs": [],
   "source": [
    "# To create an empty graph\n",
    "G = nx.Graph()"
   ]
  },
  {
   "cell_type": "code",
   "execution_count": 7,
   "metadata": {
    "id": "fB0W03xTFZlR"
   },
   "outputs": [],
   "source": [
    "name_id_dict={}\n",
    "id_name_dict={}\n",
    "id_index={}\n",
    "index_id={}\n",
    "node_index=0\n",
    "with open('/content/gdrive/MyDrive/#AYODHYAVERDICT_tweets.csv') as fp:\n",
    "    for line_index, line in enumerate(fp):\n",
    "      if line_index==0: #skips column headers\n",
    "        continue\n",
    "      result = [x.strip() for x in line.split(',')]\n",
    "      name_id_dict[result[1]]=result[0] # name -> id\n",
    "      id_name_dict[result[0]]=result[1] # id -> name\n",
    "      if id_index.get(result[0])==None:\n",
    "        id_index[result[0]]=node_index # id -> index\n",
    "        index_id[node_index]=result[0] # index -> id\n",
    "        node_index+=1"
   ]
  },
  {
   "cell_type": "code",
   "execution_count": 8,
   "metadata": {
    "id": "aH6XSW_xIuh1"
   },
   "outputs": [],
   "source": [
    "with open('/content/gdrive/MyDrive/#AYODHYAVERDICT_follower_followee_network.csv') as fp:\n",
    "    for line_index, line in enumerate(fp):\n",
    "      if line_index==0:\n",
    "        continue\n",
    "      result = [x.strip() for x in line.split('\"')]\n",
    "      if len(result)==3:\n",
    "        followers = [x.strip() for x in result[1].split(',')]\n",
    "      else:\n",
    "        followers = []\n",
    "      for f in followers:\n",
    "        if id_index.get(f)==None:\n",
    "          id_index[f]=node_index\n",
    "          index_id[node_index]=f\n",
    "          node_index+=1"
   ]
  },
  {
   "cell_type": "code",
   "execution_count": 9,
   "metadata": {
    "id": "cReNBefceo33"
   },
   "outputs": [],
   "source": [
    "adjacency_matrix = [] # A\n",
    "for i in range(node_index):\n",
    "    row = []\n",
    "    for j in range(node_index):\n",
    "        row.append(0)\n",
    "    adjacency_matrix.append(row)"
   ]
  },
  {
   "cell_type": "code",
   "execution_count": 10,
   "metadata": {
    "id": "ZOIFN_u6mc0e"
   },
   "outputs": [],
   "source": [
    "degree_matrix = [] # D\n",
    "for i in range(node_index):\n",
    "    row = []\n",
    "    for j in range(node_index):\n",
    "        row.append(0)\n",
    "    degree_matrix.append(row)"
   ]
  },
  {
   "cell_type": "code",
   "execution_count": 11,
   "metadata": {
    "id": "rLXhngJK8FOx"
   },
   "outputs": [],
   "source": [
    "indegree={}\n",
    "total_degree={}\n",
    "with open('/content/gdrive/MyDrive/#AYODHYAVERDICT_follower_followee_network.csv') as fp:\n",
    "    for line_index, line in enumerate(fp):\n",
    "      if line_index==0:\n",
    "        continue\n",
    "      result = [x.strip() for x in line.split('\"')]\n",
    "\n",
    "      if len(result)==3:\n",
    "        followers = [x.strip() for x in result[1].split(',')]\n",
    "      else:\n",
    "        followers = []\n",
    "\n",
    "      followee = [x.strip() for x in line.split(',')]\n",
    "\n",
    "      #print(followee[0],name_id_dict[followee[0]])        \n",
    "\n",
    "      indegree[id_index[name_id_dict[followee[0]]]]=len(followers)\n",
    "      total_degree[id_index[name_id_dict[followee[0]]]]=len(followers)\n",
    "\n",
    "      for f in followers:\n",
    "        if total_degree.get(id_index[f])!=None:\n",
    "          total_degree[id_index[f]]+=1\n",
    "        else:\n",
    "          total_degree[id_index[f]]=1\n",
    "        adjacency_matrix[id_index[name_id_dict[followee[0]]]][id_index[f]]=1\n",
    "        #print(id_index[name_id_dict[followee[0]]],id_index[f])\n",
    "        G.add_edge(id_index[name_id_dict[followee[0]]],id_index[f])"
   ]
  },
  {
   "cell_type": "markdown",
   "metadata": {
    "id": "gVHHZuzStbAw"
   },
   "source": [
    "## **computing graph and node derivative**"
   ]
  },
  {
   "cell_type": "code",
   "execution_count": 12,
   "metadata": {
    "id": "7mNGRaLhuMMW"
   },
   "outputs": [],
   "source": [
    "for k,v in total_degree.items():\n",
    "  degree_matrix[k][k]=v"
   ]
  },
  {
   "cell_type": "code",
   "execution_count": 13,
   "metadata": {
    "colab": {
     "base_uri": "https://localhost:8080/",
     "height": 0
    },
    "id": "8svY9zS6wnVK",
    "outputId": "2443b8bd-aa73-4841-fae3-12a234230325"
   },
   "outputs": [
    {
     "data": {
      "text/plain": [
       "(1, 13963)"
      ]
     },
     "execution_count": 13,
     "metadata": {},
     "output_type": "execute_result"
    }
   ],
   "source": [
    "#x=Allocation matrix; assign each node a value which is equal to number of followers = indegree of a node\n",
    "x = []\n",
    "for j in range(node_index):\n",
    "  x.append(0)\n",
    "\n",
    "for k,v in total_degree.items():\n",
    "  x[k]=v\n",
    "x=np.reshape(x,(13963,1))\n",
    "x.T.shape"
   ]
  },
  {
   "cell_type": "code",
   "execution_count": null,
   "metadata": {},
   "outputs": [],
   "source": []
  },
  {
   "cell_type": "markdown",
   "metadata": {
    "id": "aId_ovcCe3hC"
   },
   "source": [
    "The **Laplacian of a graph G** is given as: L = D - A\n",
    "\n",
    "Here, D is the degree matrix of G where:\n",
    "\n",
    "D[ i , j ] = di  when i = j ; di represents degree of node i\n",
    "\n",
    "D[ i , j ] = 0, when i ≠ j\n",
    "\n",
    "and A is the adjacency matrix of G\n",
    "\n"
   ]
  },
  {
   "cell_type": "code",
   "execution_count": 14,
   "metadata": {
    "id": "BvKFP2runCYw"
   },
   "outputs": [],
   "source": [
    "L = np.array(degree_matrix) - np.array(adjacency_matrix) # L = D - A"
   ]
  },
  {
   "cell_type": "code",
   "execution_count": 15,
   "metadata": {
    "colab": {
     "base_uri": "https://localhost:8080/",
     "height": 0
    },
    "id": "e_GDRccNR3av",
    "outputId": "4dc329f9-a7a9-4452-ca9a-1f34e5f571eb"
   },
   "outputs": [
    {
     "data": {
      "text/plain": [
       "(13963, 13963)"
      ]
     },
     "execution_count": 15,
     "metadata": {},
     "output_type": "execute_result"
    }
   ],
   "source": [
    "L.shape"
   ]
  },
  {
   "cell_type": "markdown",
   "metadata": {
    "id": "9l5WXuCoURLa"
   },
   "source": [
    "Find node **derivative of each node**(account) present in the twitter network\n",
    "\n",
    "![image.png](data:image/png;base64,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)\n",
    "\n",
    "corresponds to the differential value of each node, with respect to its neighbours \n",
    "\n",
    "![image.png](data:image/png;base64,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)"
   ]
  },
  {
   "cell_type": "code",
   "execution_count": 16,
   "metadata": {
    "colab": {
     "base_uri": "https://localhost:8080/",
     "height": 0
    },
    "id": "iOzPHyIPSnYU",
    "outputId": "8693e723-4333-41c8-b730-067028a13654"
   },
   "outputs": [
    {
     "data": {
      "text/plain": [
       "array([[ 2809,  1910,  6724, ..., -2742, -2742, -2742]])"
      ]
     },
     "execution_count": 16,
     "metadata": {},
     "output_type": "execute_result"
    }
   ],
   "source": [
    "np.matmul(x.T , L)"
   ]
  },
  {
   "cell_type": "code",
   "execution_count": 17,
   "metadata": {
    "colab": {
     "base_uri": "https://localhost:8080/",
     "height": 0
    },
    "id": "kmyYZn45T7z7",
    "outputId": "aa08d6cc-ce2f-4491-f4a8-e1c87c46a384"
   },
   "outputs": [
    {
     "data": {
      "text/plain": [
       "13963"
      ]
     },
     "execution_count": 17,
     "metadata": {},
     "output_type": "execute_result"
    }
   ],
   "source": [
    "len(np.matmul(x.T , L)[0]) # which is equal to number of nodes(twitter accounts)"
   ]
  },
  {
   "cell_type": "markdown",
   "metadata": {
    "id": "iYRqZYUbW23e"
   },
   "source": [
    "Find **twitter account having highest degree**:\n",
    "\n",
    "A positive derivative of a node means the Twitter account is more influential(popular) as compared to its neighboring Twitter accounts.\n",
    "\n",
    "A negative derivative of a node means a Twitter account is not as influential(popular) as compared to its neighboring Twitter accounts."
   ]
  },
  {
   "cell_type": "code",
   "execution_count": 18,
   "metadata": {
    "colab": {
     "base_uri": "https://localhost:8080/",
     "height": 0
    },
    "id": "H6YrHG-WhgLs",
    "outputId": "23de660d-f959-4271-eba6-628fbdd82d8a"
   },
   "outputs": [
    {
     "name": "stdout",
     "output_type": "stream",
     "text": [
      "id=43 index=1132908407407620096 \taccount_name=RoyalRajputni \thighest derivative value=13727025\n"
     ]
    }
   ],
   "source": [
    "xTL=np.matmul(x.T , L)\n",
    "print(\"id=\"+str(np.argmax(xTL)),\"index=\"+str(index_id[np.argmax(xTL)]),\"\\taccount_name=\"+str(id_name_dict[index_id[np.argmax(xTL)]]),\"\\thighest derivative value=\"+str(xTL[0][np.argmax(xTL)]))\n"
   ]
  },
  {
   "cell_type": "markdown",
   "metadata": {
    "id": "f68Gcr8_ZrYm"
   },
   "source": [
    "Find **twitter account having least degree**:"
   ]
  },
  {
   "cell_type": "code",
   "execution_count": 55,
   "metadata": {
    "colab": {
     "base_uri": "https://localhost:8080/"
    },
    "id": "w2-cbQOmZ5EV",
    "outputId": "25048b65-a935-4792-b55d-f6259bedb4e0"
   },
   "outputs": [
    {
     "name": "stdout",
     "output_type": "stream",
     "text": [
      "id=334 index=141633175 \tlowest derivative value=-10025\n"
     ]
    }
   ],
   "source": [
    "print(\"id=\"+str(np.argmin(xTL)),\"index=\"+str(index_id[np.argmin(xTL)]),\"\\tlowest derivative value=\"+str(xTL[0][np.argmin(xTL)]))"
   ]
  },
  {
   "cell_type": "markdown",
   "metadata": {
    "id": "nyKxMLSqij4H"
   },
   "source": [
    "The graph derivative is defined as:\n",
    "\n",
    "![image.png](data:image/png;base64,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)"
   ]
  },
  {
   "cell_type": "code",
   "execution_count": 20,
   "metadata": {
    "colab": {
     "base_uri": "https://localhost:8080/",
     "height": 0
    },
    "id": "T3C4Fvg8chuQ",
    "outputId": "285eb957-5664-42d4-8c13-85d25fd3c49e"
   },
   "outputs": [
    {
     "data": {
      "text/plain": [
       "array([[76538116648]])"
      ]
     },
     "execution_count": 20,
     "metadata": {},
     "output_type": "execute_result"
    }
   ],
   "source": [
    "np.matmul(np.matmul(x.T , L),x)"
   ]
  },
  {
   "cell_type": "markdown",
   "metadata": {
    "id": "Ss1fErJEBU3Y"
   },
   "source": [
    "**Graph derivative = 76538116648**; means twitter network has more positive derivative nodes and it is overall opinion generator."
   ]
  },
  {
   "cell_type": "markdown",
   "metadata": {
    "id": "bcFzTV66avlc"
   },
   "source": [
    "## **Find graph centralities**\n",
    "\n",
    "Centrality is an important concept used for graphs to discover the most important nodes. For instance, one can identify the most influential Twitter account on the social network"
   ]
  },
  {
   "cell_type": "code",
   "execution_count": 21,
   "metadata": {
    "id": "WM5nqWLgbMJb"
   },
   "outputs": [],
   "source": [
    "def find_min_value_details(dictionary,rank):\n",
    "  min_index=sorted(zip(dictionary.values(), dictionary.keys()))[rank][1]\n",
    "  min_id=index_id[min_index]\n",
    "  min_name=\"\"\n",
    "  if id_name_dict.get(min_id)!=None:\n",
    "    min_name=id_name_dict[min_id]\n",
    "  min_val=sorted(zip(dictionary.values(), dictionary.keys()))[rank][0]\n",
    "\n",
    "\n",
    "  return min_index,min_id,min_name,min_val\n",
    "\n",
    "def find_max_value_details(dictionary,rank):\n",
    "  max_index=sorted(zip(dictionary.values(), dictionary.keys()))[-rank][1]\n",
    "  max_id=index_id[max_index]\n",
    "  max_name=\"\"\n",
    "  if id_name_dict.get(max_id)!=None:\n",
    "    max_name=id_name_dict[max_id]\n",
    "  max_val=sorted(zip(dictionary.values(), dictionary.keys()))[-rank][0]\n",
    "\n",
    "  return max_index,max_id,max_name,max_val"
   ]
  },
  {
   "cell_type": "markdown",
   "metadata": {
    "id": "mFXrFb4BBOd6"
   },
   "source": [
    "## find degree centrality\n",
    "\n",
    "A node's degree is the number of connections it has. indegree represents the number of incoming edges to that node and outdegree represents the number of outgoing edges from that node.\n",
    "\n",
    "**Degree centrality** defined as the number of neighbors that a node has divided by the total number of neighbors that the node could have.\n",
    "\n",
    "Degree centrality is a measure of the extent to which a node can directly affect (influence) other nodes in the graph\n",
    "here edges represent follower relationship, indegree can be interpreted as a form of popularity. \n",
    "\n",
    "Thus, the **higher the degree of a node, the more influential it is in a network**."
   ]
  },
  {
   "cell_type": "code",
   "execution_count": 22,
   "metadata": {
    "colab": {
     "base_uri": "https://localhost:8080/",
     "height": 0
    },
    "id": "YCVFX9lGbPUR",
    "outputId": "54813e1d-de64-4935-bd71-cbd4bfd1405d"
   },
   "outputs": [
    {
     "name": "stdout",
     "output_type": "stream",
     "text": [
      "43 \t 1132908407407620096 \t RoyalRajputni \t 3473\n",
      "48 \t 45036318 \t jawahar4 \t 2618\n",
      "38 \t 3930331702 \t VirkAnnie \t 959\n",
      "47 \t 1154178342 \t pokaabhii \t 860\n",
      "20 \t 2212624748 \t OurIndiaFirst19 \t 787\n"
     ]
    }
   ],
   "source": [
    "#degree of all nodes\n",
    "dict_deg=nx.degree(G)\n",
    "dict_deg=sorted(dict_deg, key=lambda x: x[1], reverse=True)\n",
    "for t in dict_deg[:5]:\n",
    "  print(t[0],\"\\t\",index_id[t[0]],\"\\t\",id_name_dict[index_id[t[0]]],\"\\t\",t[1])\n",
    "#Output format:index,id,account_name,degree"
   ]
  },
  {
   "cell_type": "code",
   "execution_count": 23,
   "metadata": {
    "id": "d_uS9TaiXZ_g"
   },
   "outputs": [],
   "source": [
    "deg_centrality = nx.degree_centrality(G)"
   ]
  },
  {
   "cell_type": "code",
   "execution_count": 24,
   "metadata": {
    "colab": {
     "base_uri": "https://localhost:8080/",
     "height": 0
    },
    "id": "BLYJSlRWasaU",
    "outputId": "773d297e-85d1-48dc-88ed-167c7e8ce807"
   },
   "outputs": [
    {
     "name": "stdout",
     "output_type": "stream",
     "text": [
      "(104, '945452161', '2611rachna', 7.23222680263253e-05)\n",
      "(106, '1107575212248363010', 'NancyGautam01', 7.23222680263253e-05)\n",
      "(162, '2893774440', 'OMohatta', 7.23222680263253e-05)\n",
      "(190, '880332042726256640', '', 7.23222680263253e-05)\n",
      "(191, '948498152105000961', '', 7.23222680263253e-05)\n"
     ]
    }
   ],
   "source": [
    "#Five least influential twitter accounts\n",
    "print(find_min_value_details(deg_centrality,1))\n",
    "print(find_min_value_details(deg_centrality,2))\n",
    "print(find_min_value_details(deg_centrality,3))\n",
    "print(find_min_value_details(deg_centrality,4))\n",
    "print(find_min_value_details(deg_centrality,5))\n",
    "#Output format:index,id,account name, value"
   ]
  },
  {
   "cell_type": "code",
   "execution_count": 25,
   "metadata": {
    "colab": {
     "base_uri": "https://localhost:8080/",
     "height": 0
    },
    "id": "Vd8S_QYVLQK5",
    "outputId": "97e87587-2f4c-4ab3-cdb7-d78bb7cb73cb"
   },
   "outputs": [
    {
     "name": "stdout",
     "output_type": "stream",
     "text": [
      "(43, '1132908407407620096', 'RoyalRajputni', 0.25117523685542775)\n",
      "(48, '45036318', 'jawahar4', 0.18933969769291964)\n",
      "(38, '3930331702', 'VirkAnnie', 0.06935705503724596)\n",
      "(47, '1154178342', 'pokaabhii', 0.062197150502639756)\n",
      "(20, '2212624748', 'OurIndiaFirst19', 0.05691762493671801)\n"
     ]
    }
   ],
   "source": [
    "#Five most influential twitter accounts\n",
    "print(find_max_value_details(deg_centrality,1))\n",
    "print(find_max_value_details(deg_centrality,2))\n",
    "print(find_max_value_details(deg_centrality,3))\n",
    "print(find_max_value_details(deg_centrality,4))\n",
    "print(find_max_value_details(deg_centrality,5))\n",
    "#Output format:index,id,account name, value"
   ]
  },
  {
   "cell_type": "code",
   "execution_count": 26,
   "metadata": {
    "colab": {
     "base_uri": "https://localhost:8080/",
     "height": 265
    },
    "id": "ijr5-4RsrJ53",
    "outputId": "54d0db30-2e4c-4407-fb59-668dbc5750c1"
   },
   "outputs": [
    {
     "data": {
      "image/png": "[encoded data removed]",
      "text/plain": [
       "<Figure size 432x288 with 1 Axes>"
      ]
     },
     "metadata": {
      "needs_background": "light"
     },
     "output_type": "display_data"
    }
   ],
   "source": [
    "# Plot a histogram of the degree centrality distribution of the graph.\n",
    "plt.figure()\n",
    "plt.hist(list(deg_centrality.values()))\n",
    "plt.show()"
   ]
  },
  {
   "cell_type": "markdown",
   "metadata": {
    "id": "QQFKWyfkoIp5"
   },
   "source": [
    "## find eigenvector_centrality\n",
    "In Delhi Roads whenever the traffic police capture a person for breaking the traffic rule, the first sentence that traffic police hears is \"Do you know whom I am related to?\". Eigenvector centrality is a measure of exactly this. \n",
    "\n",
    "**Eigencentrality** is a measure of a node's importance depending on its neighbors. \n",
    "In contrast to degree centrality, we may discover nodes that influence the whole network, not simply those that are linked to that node.\n",
    "\n",
    "**Algorithm steps**:\n",
    "1. Calculate the eigendecomposition of the pairwise adjacency matrix of the graph.\n",
    "2. Select the eigenvector associated with the largest eigenvalue.\n",
    "3. Element i in the eigenvector gives the centrality of the i-th node.\n",
    "\n",
    "Note: The eigenvector calculation is done by the power iteration method and has no guarantee of convergence.\n",
    "\n",
    "It determines that a Twitter account is important if it is linked to other important Twitter accounts.\n",
    "\n",
    "**If a Twitter account is connected to a highly influential Twitter account, it will have a higher Eigencentrality value**."
   ]
  },
  {
   "cell_type": "code",
   "execution_count": 27,
   "metadata": {
    "id": "tAawat3wnbPC"
   },
   "outputs": [],
   "source": [
    "dict_eigen=nx.eigenvector_centrality(G,max_iter=1000)"
   ]
  },
  {
   "cell_type": "code",
   "execution_count": 28,
   "metadata": {
    "colab": {
     "base_uri": "https://localhost:8080/",
     "height": 0
    },
    "id": "S6F9CLyVn6xW",
    "outputId": "8dad587c-bae5-42ae-979e-51bc91ac503e"
   },
   "outputs": [
    {
     "name": "stdout",
     "output_type": "stream",
     "text": [
      "(4702, '1193727911603429376', '', 1.619778378141547e-274)\n",
      "(4703, '1113527334307553280', '', 1.619778378141547e-274)\n",
      "(4704, '1192347266981539840', '', 1.619778378141547e-274)\n",
      "(4705, '1130966223888429056', '', 1.619778378141547e-274)\n",
      "(4706, '937747351', '', 1.619778378141547e-274)\n"
     ]
    }
   ],
   "source": [
    "#Five least influential twitter accounts\n",
    "print(find_min_value_details(dict_eigen,1))\n",
    "print(find_min_value_details(dict_eigen,2))\n",
    "print(find_min_value_details(dict_eigen,3))\n",
    "print(find_min_value_details(dict_eigen,4))\n",
    "print(find_min_value_details(dict_eigen,5))\n",
    "#Output format:index,id,account name, value"
   ]
  },
  {
   "cell_type": "code",
   "execution_count": 29,
   "metadata": {
    "colab": {
     "base_uri": "https://localhost:8080/",
     "height": 0
    },
    "id": "zXoIMdOln8r6",
    "outputId": "5d86edab-4e6b-4fea-ea3a-976fbac3d5b6"
   },
   "outputs": [
    {
     "name": "stdout",
     "output_type": "stream",
     "text": [
      "(43, '1132908407407620096', 'RoyalRajputni', 0.7070836719470707)\n",
      "(334, '141633175', '', 0.012377678881972424)\n",
      "(4760, '1156861810957406209', '', 0.012319095440341701)\n",
      "(4787, '2991181697', '', 0.01229407615045028)\n",
      "(1597, '2253142422', '', 0.01228244140128211)\n"
     ]
    }
   ],
   "source": [
    "#Five most influential twitter accounts\n",
    "print(find_max_value_details(dict_eigen,1))\n",
    "print(find_max_value_details(dict_eigen,2))\n",
    "print(find_max_value_details(dict_eigen,3))\n",
    "print(find_max_value_details(dict_eigen,4))\n",
    "print(find_max_value_details(dict_eigen,5))\n",
    "#Output format:index,id,account name, value"
   ]
  },
  {
   "cell_type": "markdown",
   "metadata": {
    "id": "_LTo8eTEBcB6"
   },
   "source": [
    "## find closeness centrality\n",
    "The closeness or minisum measure of a node v, depicted as c(v) is the sum of its distances from all other nodes in the network.\n",
    "\n",
    "![image.png](data:image/png;base64,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)\n",
    "\n",
    "Centrality based on closeness is defined as: \n",
    "\n",
    "![image.png](data:image/png;base64,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)\n",
    "\n",
    "Nodes with highest closeness centrality, also called **graph medians**.\n",
    "**Higher closeness centrality value for a node means that the node is best placed to influence the network in the shortest time.**\n"
   ]
  },
  {
   "cell_type": "code",
   "execution_count": 30,
   "metadata": {
    "id": "SCs_F7iReXXK"
   },
   "outputs": [],
   "source": [
    "close_centrality = nx.closeness_centrality(G)"
   ]
  },
  {
   "cell_type": "code",
   "execution_count": 31,
   "metadata": {
    "colab": {
     "base_uri": "https://localhost:8080/",
     "height": 0
    },
    "id": "6yS6y4sZd2UV",
    "outputId": "cdc66c37-335a-4345-909f-305d13b55de8"
   },
   "outputs": [
    {
     "name": "stdout",
     "output_type": "stream",
     "text": [
      "(4702, '1193727911603429376', '', 0.0006694975668722685)\n",
      "(4703, '1113527334307553280', '', 0.0006694975668722685)\n",
      "(4704, '1192347266981539840', '', 0.0006694975668722685)\n",
      "(4705, '1130966223888429056', '', 0.0006694975668722685)\n",
      "(4706, '937747351', '', 0.0006694975668722685)\n"
     ]
    }
   ],
   "source": [
    "#Five least influential twitter accounts\n",
    "print(find_min_value_details(close_centrality,1))\n",
    "print(find_min_value_details(close_centrality,2))\n",
    "print(find_min_value_details(close_centrality,3))\n",
    "print(find_min_value_details(close_centrality,4))\n",
    "print(find_min_value_details(close_centrality,5))\n",
    "#Output format:index,id,account name, value"
   ]
  },
  {
   "cell_type": "markdown",
   "metadata": {
    "id": "6e8SUaGP9ALA"
   },
   "source": [
    "The twitter account with name 'RoyalRajputni' has highest closeness\n",
    "centrality and it is also the graph median."
   ]
  },
  {
   "cell_type": "code",
   "execution_count": 32,
   "metadata": {
    "colab": {
     "base_uri": "https://localhost:8080/",
     "height": 0
    },
    "id": "nMJnN1vWLgDK",
    "outputId": "afea94ad-10a2-4abc-99ae-a034726a623c"
   },
   "outputs": [
    {
     "name": "stdout",
     "output_type": "stream",
     "text": [
      "(43, '1132908407407620096', 'RoyalRajputni', 0.37464071369718954)\n",
      "(48, '45036318', 'jawahar4', 0.3693126418388933)\n",
      "(334, '141633175', '', 0.35907051998173944)\n",
      "(1343, '185142711', '', 0.34445009263436144)\n",
      "(15, '415456235', 'shripadkatarane', 0.3348801755473761)\n"
     ]
    }
   ],
   "source": [
    "#Five most influential twitter accounts\n",
    "print(find_max_value_details(close_centrality,1))\n",
    "print(find_max_value_details(close_centrality,2))\n",
    "print(find_max_value_details(close_centrality,3))\n",
    "print(find_max_value_details(close_centrality,4))\n",
    "print(find_max_value_details(close_centrality,5))\n",
    "#Output format:index,id,account name, value"
   ]
  },
  {
   "cell_type": "markdown",
   "metadata": {
    "id": "3ZiTt2l2Bu6a"
   },
   "source": [
    "## find eccentricity\n",
    "Eccentricity of a node v is the maximum distance from the node v to any node in the network.\n",
    "Centrality of a node v based on its eccentricity is defined as: \n",
    "\n",
    "![image.png](data:image/png;base64,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)\n",
    "\n",
    "From the results below,  Twitter accounts \"shripadkatarane\", \"raajkmishra\", \"AbhayYa32148807\", \"jeetu_1990\", \"Mithilesh7727\" have the lowest eccentricity value of 5. Thus, starting from these Twitter account nodes, one can reach any other Twitter account in at most 5 hops."
   ]
  },
  {
   "cell_type": "code",
   "execution_count": 33,
   "metadata": {
    "colab": {
     "base_uri": "https://localhost:8080/",
     "height": 0
    },
    "id": "unEs21eEgGyP",
    "outputId": "87b0fb8a-1da8-4dad-cf4a-591527016c37"
   },
   "outputs": [
    {
     "data": {
      "text/plain": [
       "False"
      ]
     },
     "execution_count": 33,
     "metadata": {},
     "output_type": "execute_result"
    }
   ],
   "source": [
    "nx.is_connected(G)"
   ]
  },
  {
   "cell_type": "code",
   "execution_count": 34,
   "metadata": {
    "colab": {
     "base_uri": "https://localhost:8080/",
     "height": 0
    },
    "id": "SIW_Bp7WgIG_",
    "outputId": "45f21e7b-de69-4f6c-e9b6-6fe3ee76b3f3"
   },
   "outputs": [
    {
     "data": {
      "text/plain": [
       "<generator object connected_components at 0x7f9f18a02d50>"
      ]
     },
     "execution_count": 34,
     "metadata": {},
     "output_type": "execute_result"
    }
   ],
   "source": [
    "nx.connected_components(G)"
   ]
  },
  {
   "cell_type": "markdown",
   "metadata": {
    "id": "F7JwuLs3xRaK"
   },
   "source": [
    "The network is not completely connected, it has 2 connected components; removing smaller component from graph for further analysis"
   ]
  },
  {
   "cell_type": "code",
   "execution_count": 35,
   "metadata": {
    "colab": {
     "base_uri": "https://localhost:8080/",
     "height": 0
    },
    "id": "QIj4NFg8gfT-",
    "outputId": "a810f602-5f99-4965-d30d-5afc44fa2911"
   },
   "outputs": [
    {
     "data": {
      "text/plain": [
       "[13809, 19]"
      ]
     },
     "execution_count": 35,
     "metadata": {},
     "output_type": "execute_result"
    }
   ],
   "source": [
    "[len(c) for c in sorted(nx.connected_components(G), key=len, reverse=True)]"
   ]
  },
  {
   "cell_type": "code",
   "execution_count": 36,
   "metadata": {
    "id": "ccFlhNaig20D"
   },
   "outputs": [],
   "source": [
    "#Using only larger component for further analysis\n",
    "for component in list(nx. connected_components(G)):\n",
    "  if len(component) < 20: # Size of the largest component.\n",
    "    for node in component:\n",
    "      G. remove_node(node)"
   ]
  },
  {
   "cell_type": "code",
   "execution_count": 37,
   "metadata": {
    "id": "EYPApn4nGo3C"
   },
   "outputs": [],
   "source": [
    "dict_e=nx.eccentricity(G)"
   ]
  },
  {
   "cell_type": "code",
   "execution_count": 38,
   "metadata": {
    "colab": {
     "base_uri": "https://localhost:8080/",
     "height": 0
    },
    "id": "_8HPwDVWh_77",
    "outputId": "d5015a92-3ed0-4d2a-c0fe-4bede540725a"
   },
   "outputs": [
    {
     "name": "stdout",
     "output_type": "stream",
     "text": [
      "(15, '415456235', 'shripadkatarane', 5)\n",
      "(17, '20427564', 'raajkmishra', 5)\n",
      "(31, '1149186898008539136', 'AbhayYa32148807', 5)\n",
      "(32, '215381051', 'jeetu_1990', 5)\n",
      "(35, '1093054992917835776', 'Mithilesh7727', 5)\n"
     ]
    }
   ],
   "source": [
    "#Five most eccentric nodes(nodes having least eccentricity value)\n",
    "print(find_min_value_details(dict_e,1))\n",
    "print(find_min_value_details(dict_e,2))\n",
    "print(find_min_value_details(dict_e,3))\n",
    "print(find_min_value_details(dict_e,4))\n",
    "print(find_min_value_details(dict_e,5))\n",
    "#Output format:index,id,account name, value"
   ]
  },
  {
   "cell_type": "markdown",
   "metadata": {
    "id": "LrXXyouiB0Go"
   },
   "source": [
    "## find Radius \n",
    "The radius is the minimum eccentricity.\n",
    "\n",
    "![image.png](data:image/png;base64,iVBORw0KGgoAAAANSUhEUgAAAU0AAABCCAMAAADkD3SXAAAAAXNSR0IArs4c6QAAAARnQU1BAACxjwv8YQUAAAMAUExURf///wAAAN7e3rW1rQgICMXe1lJKSpylnIyElL29xRA6UhBaGRBazhBahCkpKWtaexDO3hDOWhDOnBDOGe/v5r3mEGtapZRazhBjUkJazkJahBAQUpRahGtazikQIYwpUjFaGYxaKYwpGWulnFopUlpaKVopGRBa7xBapb1S771Srb0Z770Zrb2Ea70Za72EKb0ZKb2M74wIUoxaCIwIGVoIUlpaCFoIGb1Szr1SjL0Zzr0ZjL2ESr0ZSr2ECL0ZCL2MzntaUjo6OpTv3pTvWkLv3kLvWpSU70Kt3kKtWpSlWkKtnEKtGZTvnJTvGULvnELvGUIZ70IZpZSlGZQZpZQZ72vv3mvvWmuU72vvnGvvGWsZpWsZ72ulGRAQGULO3kLOWpSEWkLOnELOGZSEGWuEGb21lO/mEHOEhGNjY+a1rb3mMb21a71Ka73mc721Kb1KKb3mtb2Erea1jL21Sr1KSr3mUr21CL1KCL3mlL2EjJRa7zFjUu9S70Ja70JapTEQUpRape9Sre8Z7+8Zre+Ea+8Za++EKe8ZKe+M72ta7xAxGe9Szu9SjO8Zzu8ZjO+ESu8ZSu+ECO8ZCO+MzlpaUpxaUnN7c+/v97297+a97++1a+9Ka+/mc++1Ke9KKe/mMe/mte+ErRCM7xCMaxCMrRCMKRApzhAphOa9zu+1Su9KSu/mUu+1CO9KCO/mlO+EjBCMzhCMShCMjBCMCBAIzhAIhGula5TO75TOa5SlzkKM70KMa0KMrUKMKZTOrZTOKUIpzkIphJQphJQpzmvO72vOa2ulzmvOrWvOKWsphGspzmulSpTOzpTOSpSEzkKMzkKMSkKMjEKMCJTOjJTOCEIIzkIIhJQIhJQIzmvOzmvOSmuEzmvOjGvOCGsIhGsIzhCt7xCtaxCtrRCtKRAp7xAppRDv7xDvaxDvrRDvKWuEpRCtzhCtShCtjBCtCBAI7xAIpRDvzhDvShDvjBDvCCkQCMXm9zExEDo6WmuEUgAQCP/m9wAACP//9wAAACJbkK0AAAEAdFJOU////////////////////////////////////////////////////////////////////////////////////////////////////////////////////////////////////////////////////////////////////////////////////////////////////////////////////////////////////////////////////////////////////////////////////////////////////////////////////////////////////////////////////wBT9wclAAAACXBIWXMAABcRAAAXEQHKJvM/AAALQUlEQVR4Xu1cTXKjuhq1BAiYyBMNX2UxWghVb2bWkrGK3kI2mEoqJHXPB/pFYHC3+/ZN0qfdNjYgpKPz/UiInPZR13ZjF5fWbnwljAO3WxsoGrtxBEO5zpFqi7r2uzhdsmCHif80UFIou7kBLoXd2kfP1sisGs0mdP3Uc1wO9FGzW/rpM0A9yh92cxO803ZrDw0r7FaEVoBHU7S8aofnNxygNKumPcPa4f8a+FyJO0LJbkeZhIoZu3Ud7cpx3DD2ULuL/DAQr2DdOH/VbMfL/EYUHdMH2n4L1i0zwzGbVF33YTc96o6xIa60eQe9jnTOjqr+7uCoGJsczt1Qs7Pd2oGzzavo87Byhq9MrVlRK/xxwx9znZz8+DGTOwiI6ZjWx+qAiComrQE7jPCYj0/2i0ODVniDUOxgDe4PmMgxwzyKnl3s1i7EfjqTH4IKl5mmK8g1MNiz3m7921B1f9cwxG8QRpsJbwmwtCitR+8X2VnjC4syrurPifPOuEkXck+cWWn1hmPSia9Mv31eIB7c4DfqHc+J0tJwQ25+VXc6uezw58L6XVGzl93EPaBl18N6wRa5I3n5VbesY44R346kC/99vN6WIEibnfG6sbQVTR0Cdh97QwDssme7nUImYkTed29TVxh1VeSveVG3vovbuliaovfpinN/RnFsQMGLpmlDeg3TXHhCHrOTwcx0tVK+lNT+Wmqt5wE3QS9SVxqZryfHfeoRxH2zvtPQdc8l1bUSqGBXikn6DbY16xpnFo0RWj7O/djIDkmwBAGGmsTEvgMsRIfmv0h3JJlYetblRXdvQSdFYGpCzUq8q64+qXf0w9BhuFh5ZwkvmfQNHMNBE+6pHXcEeMOlDUaONDnGNaNZLaEpuUBcdD2naRBhu7ueztAQCk3KqFdkItPvm2g1kwX6hb/6JjZ+tDzj/NISJ64gbMokhsyO80xmKpgeHnBhdIgL5DDspG8oO9JJ+VtAE69YxE8BA4S+epjrw0vw1FsvhFrZPh9VJSPjQfUFl/O+j24na8No2diIUzr3JlJNFJRnw/pd51H5dnMGHByuBmmSC51DDlFmxdywt4QTOmTd0JcAm6mNzHgSQuitl7kuHvSy0e4Q6K53k47Y4Z32iNp7S4R2tHHfED/zNDkAfeV9k3Ac6oStcbJrXM39iGulbPBn/NBSr6k3Ww9i3NbzkvYnpUfH8i/yOImPsJhcxSauJ8p0rm8c5RaO2ac4aRuiFiocJF1MiXdkGNHozgcqN/WrZFKlYhrIkInM36lLFwLQ6JKBuhaVtU6g8oSZVOmUuYdrXgWIX6074uw27DEbIDZ95cGmrxp6rvTnxqTx90ioEQs5uJMSoXVCQCP8j4B4pXfYp+UHu5fOg1zDZA3hasEeFn4Dh4S+vg7I4rrSbgdIC8kvjMwbJk1grbJJO7wyLksnFwPFvTliWh8aqrckt57cDGrhIg/0vByjCNadpr0iky0JNzmcPGpao6IfhqGZXufk7N/AJrQZpICq+NyNHFDMptfTcsdm0kbTonN1q0J4P0dXjN3VVFTUW+fc/sSUIs39mOU+yBns1gRiM62R6TpYE6HsEvaiyHcnkCtO2AwGvanNMmoTDGuy1DVAZUwaI17lS/caVAE2Y0ufEAx9xW2SA5o+ceZStpk2UdOsN06qeqCfF+ES2evv0Ka/Cqod2ARpq2wutblp6RTTmqapo0EWYaFNAn5yAkMnLt2mZxNuJW/+QpsUhVY4oix5WSxkcWc2P5baDJZ+zW/6DA/a3LQWtCBp6Ay64lKbKN61a8VtYlzfTZ9wm3lKs8xeQVteI2pM1uuQRabiCVxtwx6yAcjicd3SFxKM/eab3wG5XGNzbR9Sr2YRdCNDj6/kINgLfSRx0aNPtTzioNwdEMcZc2hIdimg7bq37r17L99W3sqr9wzIb5a+Nomlb2oz9pvXYjrYXOt7nuabQGzd1m3ymCHrGiN/EAHj1IRiKOI94xz1z7MBlJf9BnAJ6OkV/7cfa/l+AIp88JONiTaP+s1r2lzreyhxwSaU47rEEeuHZwDS/cn/rHuV5fgQ8sgvC/HnFOPMLEP4NWR+0zeUJOgrgIYEbS785mZMR2lJs9wsn1iaIth0NM1uc6y6qJ3qcS5n1W3mCsNlE9sHKDTlJjQcHTQdByoTplYTS19I0BOz9Jublo6iYy9TuFbD06V+E411l0W2Sf3ZxCZt+YJEQ4UCPuRiol3BJtI6kdMKDfOw86b3BGKCH69Qtx6I6aha7Dc3LR3Nj0QYVm0Ui7uz5LutSVAXkv503HbolSoCUmU0ovTAwMBuWcAxMxPx3nYa9c9c5KhXGP5FQBfBo8RRGJUPDglG5l1AsgP85xHUATS4A7kpvZWCvHTeCe2aC+FyDkJVmCEALnPwQU1XO66JkpIZCtWV9q6HaiHBEY4zLnECei5j+JdQG1wXbua1L07qbNAUkNP36lQYQdbBRF+f1GB3GPBR9NOOUuDLaHdIMy/ny1GzjuhU7dDpcEguCnQQhPuj6AZ0aH8aZRKmxNyTcNGrQQMnT3dWYtRUMW16ox+Ypiq0SYkTULkVpf8Ceor6mmJ/farwji/0xuG37LYcTlw/2C/goOncGQMclD8qa45FoUu6LSKNFzOhz/RMM/QoCN3FEaOkiYtDOJw0NBYbV1m12LYRsuukaDbDtgnm9mlQ1RhZLliAqWdirurGmn/bpAZYZCF6geaKs9kG4kLSxZ8DK3qCqSep03WIvWDx8VO87C16+DxAS67LLQIMfdNYLS7becUmRvkZpbmOG5py2XdvYGaP8AzF/ZPNP4bisJn9eF5L2Rf4CWoeDxT7aSCO5nrH1gCbW1PH5hbP/Z8HP7a4eDy4Pv2HfD/siAlHn07YR5E9plOYm6pCaEw/nIeeEvoZyvT9uTeHx2rFsWxPHr2b293ymIPq0tUkv4AiE3nX3bAAcMalpyGR7H1R6ozRcfnq2d3FIVs7+OQGUPmlJPtQ8m5kwioe0xwwp/cIaBIiqRPUdlMdVx+YSjHckMVweXVaPEZ/bJ3SMSybIbL7TytQT9VTW7WVP1RhfJ9Yobg1G67jScw1FM+3pITqcJDeGgf/FFSaT1T7HowP8o3mN4BAGSw7rlZ9pE9SPO2cUd2YxNyTpOPok2Q3/bYCNdA80aWZEGRtkqlw9X7cZX4t8FiNau/JUC7Z65rFgeOoGL15Q+PLQ5S1Q3EOXnTV8EDmuuqie2P05WY7/zIAEQHuFgzvw/3NNjyIr7dCL4K6Tw74BuPfA7Is2hmDm+/isuevNlf6CI8r1JvP8I1duL/z+nWmEH4CDYXjD7pzaJyJCoy13ANJkJ31lKOcF62sAUHdHlWHBQ7fET5J4m7AOq2Edne6L35yvLoyVevvl9PjEt8avaVrcDkjSZO7nCesH2iuTFw1LqiLb23nMGCXsncuBtVgzd8VfPa5D9zq5X+XS4PX/y94G4qwsGBel4HPfFHKd8P8zGGdBGz3sERwm2TNASX+R8kpLboBt/y72zkw/00gHYcPsDPzAo06tWFMX3FePXEM06d/0fEjjS3/2vkEsvE2SX8a9xBGtOyqgEoXiy0DNNFf3DZP+0XRgCeTxBj35M38QE876XQxQ5JiCuphRcx3BnIjlc7nu+VRs8XrORD1+bIUjxpB3fy18wn9O/3BpQjGkmvIHY5yDu+83H6WCdGqvPsSyE8KSDAK0EAzWzpiUDmGFZRFeNJnCVofuDGI/37I/vCNYKZtheaGDcWLly1ITiQcQd7t1t/nR5ssRSPUWutGndRFx+vOKUtvkCdNSHRq7ne36vtADdNiTkZ3M0TcA3uPz/zFOqq6uUwPfv4RP3k6/QN/9/wNXx/NZAAAAABJRU5ErkJggg==)"
   ]
  },
  {
   "cell_type": "code",
   "execution_count": 39,
   "metadata": {
    "colab": {
     "base_uri": "https://localhost:8080/",
     "height": 0
    },
    "id": "KskUMyF4Gp4S",
    "outputId": "2be27ac4-fa67-43e1-a330-e11eb706fac7"
   },
   "outputs": [
    {
     "name": "stdout",
     "output_type": "stream",
     "text": [
      "Radius:  5\n"
     ]
    }
   ],
   "source": [
    "print(\"Radius: \", nx.radius(G,e=dict_e))"
   ]
  },
  {
   "cell_type": "markdown",
   "metadata": {
    "id": "fAujwqTxCAbC"
   },
   "source": [
    "## find centers\n",
    "The centres of the graph are the nodes with the least eccentricity.\n",
    "The center of a graph based on its radius is given by:  \n",
    "\n",
    "![image.png](data:image/png;base64,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)\n",
    "\n",
    "Any twitter account in this network can be reached quickly in the minimum number of steps by starting at the graph center and vice versa.\n",
    " \n",
    "If a graph center tweets something then it will reach every other Twitter account in the minimum number of retweets provided every follower in the path retweets it."
   ]
  },
  {
   "cell_type": "code",
   "execution_count": 40,
   "metadata": {
    "colab": {
     "base_uri": "https://localhost:8080/",
     "height": 0
    },
    "id": "qj49v4foNKzg",
    "outputId": "9da59757-b157-4122-bdfd-722cbe52d44a"
   },
   "outputs": [
    {
     "name": "stdout",
     "output_type": "stream",
     "text": [
      "Center:  [7, 15, 17, 31, 32, 35, 37, 42, 45, 48, 234, 258, 325, 398, 549, 554, 615, 1433, 1452, 1628, 1744, 1757, 1778, 1800, 1859, 2302, 2552, 2616, 2754, 2945, 3318, 3633, 4580, 5132, 5453, 5478, 5479, 5522, 7091, 7234, 7421, 10951, 11004, 11516, 11525, 11567, 11576, 11606, 11608, 11610, 11624, 11632, 11640, 11650, 11679, 11697, 11744]\n"
     ]
    }
   ],
   "source": [
    "print(\"Center: \", sorted(list(nx.center(G,e=dict_e))))"
   ]
  },
  {
   "cell_type": "code",
   "execution_count": 41,
   "metadata": {
    "colab": {
     "base_uri": "https://localhost:8080/",
     "height": 0
    },
    "id": "z9s61djTMCYW",
    "outputId": "a4bd30ab-e943-4561-9d5f-15d87f628c58"
   },
   "outputs": [
    {
     "name": "stdout",
     "output_type": "stream",
     "text": [
      "(3431, '1183727994705268737', '', 9)\n",
      "(3430, '1182202949486776320', '', 9)\n",
      "(3429, '958300669596741632', '', 9)\n",
      "(3428, '31766723', '', 9)\n",
      "(3427, '425628427', '', 9)\n"
     ]
    }
   ],
   "source": [
    "#Five least eccentric nodes(nodes having highest eccentricity value)\n",
    "print(find_max_value_details(dict_e,1))\n",
    "print(find_max_value_details(dict_e,2))\n",
    "print(find_max_value_details(dict_e,3))\n",
    "print(find_max_value_details(dict_e,4))\n",
    "print(find_max_value_details(dict_e,5))\n",
    "#Output format:index,id,account name, value"
   ]
  },
  {
   "cell_type": "markdown",
   "metadata": {
    "id": "miYz82fyBxwx"
   },
   "source": [
    "## find Diameter\n",
    "The diameter is the maximum eccentricity."
   ]
  },
  {
   "cell_type": "code",
   "execution_count": 42,
   "metadata": {
    "colab": {
     "base_uri": "https://localhost:8080/",
     "height": 0
    },
    "id": "qhWoQaNqNCeI",
    "outputId": "0b63e552-06fb-4fd8-9032-c55fce32f42c"
   },
   "outputs": [
    {
     "name": "stdout",
     "output_type": "stream",
     "text": [
      "Diameter:  9\n"
     ]
    }
   ],
   "source": [
    "print(\"Diameter: \", nx.diameter(G,e=dict_e))"
   ]
  },
  {
   "cell_type": "markdown",
   "metadata": {
    "id": "rIZcLqBTB6ZX"
   },
   "source": [
    "## find Preiphery\n",
    "The periphery is the set of nodes with eccentricity equal to the diameter.\n",
    "\n"
   ]
  },
  {
   "cell_type": "code",
   "execution_count": 43,
   "metadata": {
    "colab": {
     "base_uri": "https://localhost:8080/",
     "height": 0
    },
    "id": "Eb61dtGlNIn9",
    "outputId": "aa9aef4d-0da6-44f0-c06d-479ae66a5d08"
   },
   "outputs": [
    {
     "name": "stdout",
     "output_type": "stream",
     "text": [
      "Preiphery:  [106, 452, 453, 454, 455, 456, 457, 458, 459, 460, 461, 462, 463, 464, 465, 466, 3199, 3200, 3201, 3202, 3203, 3204, 3205, 3206, 3207, 3208, 3209, 3210, 3211, 3212, 3213, 3214, 3215, 3216, 3217, 3218, 3219, 3220, 3221, 3222, 3223, 3224, 3225, 3226, 3227, 3228, 3229, 3230, 3231, 3232, 3233, 3234, 3235, 3236, 3237, 3238, 3239, 3240, 3241, 3242, 3243, 3244, 3245, 3246, 3247, 3248, 3249, 3250, 3251, 3252, 3253, 3254, 3255, 3256, 3257, 3258, 3259, 3260, 3261, 3262, 3263, 3264, 3265, 3266, 3267, 3268, 3269, 3270, 3271, 3272, 3416, 3417, 3418, 3419, 3420, 3421, 3422, 3423, 3424, 3426, 3427, 3428, 3429, 3430, 3431]\n"
     ]
    }
   ],
   "source": [
    "print(\"Preiphery: \", sorted(list(nx.periphery(G,e=dict_e))))"
   ]
  },
  {
   "cell_type": "markdown",
   "metadata": {
    "id": "nwwhYlTpCC-h"
   },
   "source": [
    "## find Betweenness centrality\n",
    "Given two nodes s and t, the betweenness of a graph element (node or edge) v is the ratio of the number of shortest paths between s and t that pass through v:\n",
    "\n",
    "![image.png](data:image/png;base64,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)\n",
    "\n",
    "The betweenness centrality of graph element v is its total betweenness for all pairs of nodes in the graph: \n",
    "\n",
    "![image.png](data:image/png;base64,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)\n",
    "\n",
    "This metric captures a different view of importance - in essence, it captures bottleneck nodes in a graph. Betweenness measures the relative influence or control that a graph element has.\n",
    "\n",
    "One example would be individuals that bridge between communities, An individual bridging liberal-leaning, and conservative-leaning Twitter users\n",
    "\n",
    "**If the node has high betweenness centrality then it plays a significant role within the network. A node with a higher betweenness centrality value acts as a bridge between nodes and influences the flow of the Twitter network.** The nodes with high betweenness centrality can have strategic control and influence on others. An individual in such a strategic position can influence the whole group, by either withholding or coloring the information in transmission.\n",
    "\n",
    "Betweenness centrality is a very slow calculation so I have used approximate measure by considering a random subset of k nodes where k is some number much less than the number of nodes in the network but large enough to be statistically significant (NetworkX has an option for this: betweenness centrality(G, k=myk)."
   ]
  },
  {
   "cell_type": "code",
   "execution_count": 44,
   "metadata": {
    "id": "At1ryW8s41FS"
   },
   "outputs": [],
   "source": [
    "dict_b=nx.betweenness_centrality(G, k=2000)"
   ]
  },
  {
   "cell_type": "code",
   "execution_count": 45,
   "metadata": {
    "colab": {
     "base_uri": "https://localhost:8080/",
     "height": 0
    },
    "id": "uSIg73bz5KDa",
    "outputId": "e836ba0a-3ee2-4a25-92a0-cc97bea6bd08"
   },
   "outputs": [
    {
     "name": "stdout",
     "output_type": "stream",
     "text": [
      "(104, '945452161', '2611rachna', 0.0)\n",
      "(106, '1107575212248363010', 'NancyGautam01', 0.0)\n",
      "(162, '2893774440', 'OMohatta', 0.0)\n",
      "(190, '880332042726256640', '', 0.0)\n",
      "(191, '948498152105000961', '', 0.0)\n"
     ]
    }
   ],
   "source": [
    "#Five least influential twitter accounts\n",
    "print(find_min_value_details(dict_b,1))\n",
    "print(find_min_value_details(dict_b,2))\n",
    "print(find_min_value_details(dict_b,3))\n",
    "print(find_min_value_details(dict_b,4))\n",
    "print(find_min_value_details(dict_b,5))\n",
    "#Output format:index,id,account name, value"
   ]
  },
  {
   "cell_type": "code",
   "execution_count": 46,
   "metadata": {
    "colab": {
     "base_uri": "https://localhost:8080/",
     "height": 0
    },
    "id": "PBLcL8BUMK83",
    "outputId": "7566c84f-3dc0-44f9-b8fd-09b758b323eb"
   },
   "outputs": [
    {
     "name": "stdout",
     "output_type": "stream",
     "text": [
      "(43, '1132908407407620096', 'RoyalRajputni', 0.4408518671780568)\n",
      "(48, '45036318', 'jawahar4', 0.313939571358264)\n",
      "(38, '3930331702', 'VirkAnnie', 0.14197255836671685)\n",
      "(47, '1154178342', 'pokaabhii', 0.1042984687235083)\n",
      "(20, '2212624748', 'OurIndiaFirst19', 0.09882836634039022)\n"
     ]
    }
   ],
   "source": [
    "#Five most influential twitter accounts(twitter broadcasters)\n",
    "print(find_max_value_details(dict_b,1))\n",
    "print(find_max_value_details(dict_b,2))\n",
    "print(find_max_value_details(dict_b,3))\n",
    "print(find_max_value_details(dict_b,4))\n",
    "print(find_max_value_details(dict_b,5))\n",
    "#Output format:index,id,account name, value"
   ]
  },
  {
   "cell_type": "markdown",
   "metadata": {
    "id": "TWjQr5BZBoUg"
   },
   "source": [
    "## find PageRank\n",
    "PageRank algorithm is a variant of eigenvector centrality which assigns scores based on nodes’ neighbors and their neighbors’ neighbors.\n",
    "\n",
    "**If a node has a higher page rank value means it is more influential than other nodes.**\n",
    "\n",
    "Page rank diffuses its influence in a DFS manner"
   ]
  },
  {
   "cell_type": "code",
   "execution_count": 47,
   "metadata": {
    "id": "DYLV8wvVetw9"
   },
   "outputs": [],
   "source": [
    "pr = nx.pagerank(G, alpha = 0.8)"
   ]
  },
  {
   "cell_type": "code",
   "execution_count": 48,
   "metadata": {
    "colab": {
     "base_uri": "https://localhost:8080/",
     "height": 0
    },
    "id": "1ekdPts6foWw",
    "outputId": "f70eb2f2-6e8b-41bb-d385-7bc23cdc7012"
   },
   "outputs": [
    {
     "name": "stdout",
     "output_type": "stream",
     "text": [
      "(1589, '959817091716063233', '', 2.788230201185234e-05)\n",
      "(1590, '14738418', '', 2.788230201185234e-05)\n",
      "(1594, '94530194', '', 2.788230201185234e-05)\n",
      "(1595, '108132277', '', 2.788230201185234e-05)\n",
      "(10921, '1123885511309955075', '', 2.9112946012288716e-05)\n"
     ]
    }
   ],
   "source": [
    "#Five least influential twitter accounts\n",
    "print(find_min_value_details(pr,1))\n",
    "print(find_min_value_details(pr,2))\n",
    "print(find_min_value_details(pr,3))\n",
    "print(find_min_value_details(pr,4))\n",
    "print(find_min_value_details(pr,5))\n",
    "#Output format:index,id,account name, value"
   ]
  },
  {
   "cell_type": "code",
   "execution_count": 49,
   "metadata": {
    "colab": {
     "base_uri": "https://localhost:8080/",
     "height": 0
    },
    "id": "u4COkZkzLn82",
    "outputId": "950b7ccb-ffd8-4acc-986b-0aaa633c7f92"
   },
   "outputs": [
    {
     "name": "stdout",
     "output_type": "stream",
     "text": [
      "(43, '1132908407407620096', 'RoyalRajputni', 0.11032393271525426)\n",
      "(48, '45036318', 'jawahar4', 0.07304819665081982)\n",
      "(38, '3930331702', 'VirkAnnie', 0.030948312890649223)\n",
      "(47, '1154178342', 'pokaabhii', 0.02254894269871197)\n",
      "(32, '215381051', 'jeetu_1990', 0.019938156238790413)\n"
     ]
    }
   ],
   "source": [
    "#Five most influential twitter accounts\n",
    "print(find_max_value_details(pr,1))\n",
    "print(find_max_value_details(pr,2))\n",
    "print(find_max_value_details(pr,3))\n",
    "print(find_max_value_details(pr,4))\n",
    "print(find_max_value_details(pr,5))\n",
    "#Output format:index,id,account name, value"
   ]
  },
  {
   "cell_type": "markdown",
   "metadata": {
    "id": "327rxeO3CHvp"
   },
   "source": [
    "## find hits and authority scores\n",
    "\n",
    "An algorithm based on the notion of “hubs”(outlinks) and “authorities”(inlinks).\n",
    "\n",
    "**Algorithm Steps**:\n",
    "1. Initialize the hub and authority of each node with a value of 1\n",
    "2. For each iteration, update the hub and authority of every node in the graph\n",
    "3. The new authority is the sum of the hub of its parents\n",
    "4. The new hub is the sum of the authority of its children\n",
    "5. Normalize the scores by dividing each Hub score by square root of the sum of the squares of all Hub scores, and dividing each Authority score by square root of the sum of the squares of all Authority scores.\n",
    "\n",
    "After enough iterations, hub and authority score will always converge to a specific value.\n",
    "\n",
    "**A good hub is a twitter account that points to many good authorities**\n",
    "\n",
    "**A good authority is a twitter account that points to many good hubs**\n",
    "\n",
    "HITS diffuses it's influence in BFS manner.\n",
    "\n",
    "The eigenvector calculation is done by the power iteration method and has no guarantee of convergence. The iteration will stop after max_iter iterations or an error tolerance of number_of_nodes(G)*error tolerance has been reached.\n"
   ]
  },
  {
   "cell_type": "code",
   "execution_count": 50,
   "metadata": {
    "id": "68Ioy4uDmc2B"
   },
   "outputs": [],
   "source": [
    "tupe_hits_auth=nx.hits(G)"
   ]
  },
  {
   "cell_type": "markdown",
   "metadata": {
    "id": "5PqwK_6xMX3k"
   },
   "source": [
    "Min and max Hub score"
   ]
  },
  {
   "cell_type": "code",
   "execution_count": 51,
   "metadata": {
    "colab": {
     "base_uri": "https://localhost:8080/",
     "height": 0
    },
    "id": "2rFHD9xum6Y2",
    "outputId": "708851e9-5cbc-4a43-a4e0-d2e6c5c5c25a"
   },
   "outputs": [
    {
     "name": "stdout",
     "output_type": "stream",
     "text": [
      "(452, '1015224885902274560', '', 8.079307944319651e-11)\n",
      "(453, '1127831053605826561', '', 8.079307944319651e-11)\n",
      "(454, '1082551035602694145', '', 8.079307944319651e-11)\n",
      "(455, '1731554581', '', 8.079307944319651e-11)\n",
      "(459, '801809459248926721', '', 8.079307944319651e-11)\n"
     ]
    }
   ],
   "source": [
    "#Five twitter accounts with least hub score\n",
    "print(find_min_value_details(tupe_hits_auth[0],1))\n",
    "print(find_min_value_details(tupe_hits_auth[0],2))\n",
    "print(find_min_value_details(tupe_hits_auth[0],3))\n",
    "print(find_min_value_details(tupe_hits_auth[0],4))\n",
    "print(find_min_value_details(tupe_hits_auth[0],5))\n",
    "#Output format:index,id,account name, value"
   ]
  },
  {
   "cell_type": "code",
   "execution_count": 52,
   "metadata": {
    "colab": {
     "base_uri": "https://localhost:8080/",
     "height": 0
    },
    "id": "lQG0uLUdMgFq",
    "outputId": "ca7df9a9-7a58-4050-e661-24daf222149e"
   },
   "outputs": [
    {
     "name": "stdout",
     "output_type": "stream",
     "text": [
      "(43, '1132908407407620096', 'RoyalRajputni', 0.01643399802914997)\n",
      "(334, '141633175', '', 0.0002877722945113271)\n",
      "(4760, '1156861810957406209', '', 0.00028641027090961344)\n",
      "(4787, '2991181697', '', 0.00028582859008803173)\n",
      "(1597, '2253142422', '', 0.0002855580900516503)\n"
     ]
    }
   ],
   "source": [
    "#Five twitter accounts with highest hub score\n",
    "print(find_max_value_details(tupe_hits_auth[0],1))\n",
    "print(find_max_value_details(tupe_hits_auth[0],2))\n",
    "print(find_max_value_details(tupe_hits_auth[0],3))\n",
    "print(find_max_value_details(tupe_hits_auth[0],4))\n",
    "print(find_max_value_details(tupe_hits_auth[0],5))\n",
    "#Output format:index,id,account name, value"
   ]
  },
  {
   "cell_type": "markdown",
   "metadata": {
    "id": "GcxWBc_iMmJi"
   },
   "source": [
    "Min and max Authority score"
   ]
  },
  {
   "cell_type": "code",
   "execution_count": 53,
   "metadata": {
    "colab": {
     "base_uri": "https://localhost:8080/",
     "height": 0
    },
    "id": "aT_vzJENm90_",
    "outputId": "3b31f474-394d-4310-f925-6cac23fcd892"
   },
   "outputs": [
    {
     "name": "stdout",
     "output_type": "stream",
     "text": [
      "(452, '1015224885902274560', '', 8.079334771206878e-11)\n",
      "(453, '1127831053605826561', '', 8.079334771206878e-11)\n",
      "(454, '1082551035602694145', '', 8.079334771206878e-11)\n",
      "(455, '1731554581', '', 8.079334771206878e-11)\n",
      "(459, '801809459248926721', '', 8.079334771206878e-11)\n"
     ]
    }
   ],
   "source": [
    "#Five twitter accounts with least authority score\n",
    "print(find_min_value_details(tupe_hits_auth[1],1))\n",
    "print(find_min_value_details(tupe_hits_auth[1],2))\n",
    "print(find_min_value_details(tupe_hits_auth[1],3))\n",
    "print(find_min_value_details(tupe_hits_auth[1],4))\n",
    "print(find_min_value_details(tupe_hits_auth[1],5))\n",
    "#Output format:index,id,account name, value"
   ]
  },
  {
   "cell_type": "code",
   "execution_count": 54,
   "metadata": {
    "colab": {
     "base_uri": "https://localhost:8080/",
     "height": 0
    },
    "id": "OYy0iinNMpMS",
    "outputId": "b68929c5-44e8-4836-fb38-b174235527aa"
   },
   "outputs": [
    {
     "name": "stdout",
     "output_type": "stream",
     "text": [
      "(43, '1132908407407620096', 'RoyalRajputni', 0.016434053627056945)\n",
      "(334, '141633175', '', 0.00028777227702675597)\n",
      "(4760, '1156861810957406209', '', 0.00028641025350719664)\n",
      "(4787, '2991181697', '', 0.0002858285727209235)\n",
      "(1597, '2253142422', '', 0.0002855580727046122)\n"
     ]
    }
   ],
   "source": [
    "#Five twitter accounts with highest authority score\n",
    "print(find_max_value_details(tupe_hits_auth[1],1))\n",
    "print(find_max_value_details(tupe_hits_auth[1],2))\n",
    "print(find_max_value_details(tupe_hits_auth[1],3))\n",
    "print(find_max_value_details(tupe_hits_auth[1],4))\n",
    "print(find_max_value_details(tupe_hits_auth[1],5))\n",
    "#Output format:index,id,account name, value"
   ]
  },
  {
   "cell_type": "markdown",
   "metadata": {
    "id": "pY88A-Ft20N7"
   },
   "source": [
    "## Conclusion\n",
    "\n",
    "In this work, the Twitter network about the Ayodhya verdict is analyzed and some useful insights are obtained about the network.\n",
    "\n",
    "Since graph derivative gives a positive value it means it has more positive derivative nodes and it is an overall opinion(or content) generator.\n",
    "\n",
    "\"RoyalRajputni\" is the most important Twitter account in this graph according to all mentioned centrality measures and we can say that it is the most influential Twitter account amongst others."
   ]
  },
  {
   "cell_type": "code",
   "execution_count": null,
   "metadata": {},
   "outputs": [],
   "source": []
  },
  {
   "cell_type": "markdown",
   "metadata": {
    "id": "CNk4DFbjHI19"
   },
   "source": [
    "## References\n",
    "\n",
    "[1] Introduction to Graph Analytics (https://medium.com/analytics-vidhya/introduction-to-graph-analytics-796cbb3c9cd9)\n",
    "\n",
    "[2] Introduction and Concepts of Centrality (https://towardsdatascience.com/graph-analytics-introduction-and-concepts-of-centrality-8f5543b55de3)\n",
    "\n",
    "[3] networkx Reference (https://networkx.org/documentation/stable/reference/index.html)\n",
    "\n",
    "[4] Lecture Slides\n"
   ]
  },
  {
   "cell_type": "code",
   "execution_count": 54,
   "metadata": {
    "id": "T0Fwlx-HY6v3"
   },
   "outputs": [],
   "source": []
  }
 ],
 "metadata": {
  "colab": {
   "provenance": []
  },
  "kernelspec": {
   "display_name": "Python 3",
   "language": "python",
   "name": "python3"
  },
  "language_info": {
   "codemirror_mode": {
    "name": "ipython",
    "version": 3
   },
   "file_extension": ".py",
   "mimetype": "text/x-python",
   "name": "python",
   "nbconvert_exporter": "python",
   "pygments_lexer": "ipython3",
   "version": "3.8.8"
  }
 },
 "nbformat": 4,
 "nbformat_minor": 1
}
